{
 "cells": [
  {
   "cell_type": "code",
   "execution_count": 7,
   "id": "ecdec88b",
   "metadata": {},
   "outputs": [],
   "source": [
    "import pandas as pd\n",
    "import numpy as np\n",
    "from sklearn.model_selection import GridSearchCV\n",
    "from sklearn.ensemble import RandomForestRegressor\n",
    "import pickle\n",
    "\n",
    "# Load the data\n",
    "X_train = pd.read_csv('../data/processed/X_train_scaled.csv')\n",
    "y_train = pd.read_csv('../data/processed/y_train.csv')\n",
    "\n",
    "# Define parameter grid\n",
    "param_grid = {\n",
    "    'n_estimators': [100, 200, 300],\n",
    "    'max_depth': [10, 20, 30, None],\n",
    "    'min_samples_split': [2, 5, 10],\n",
    "    'min_samples_leaf': [1, 2, 4]\n",
    "}\n",
    "\n",
    "# Initialize the model\n",
    "rf = RandomForestRegressor(random_state=42)\n",
    "\n",
    "# Create GridSearchCV object\n",
    "grid_search = GridSearchCV(\n",
    "    estimator=rf,\n",
    "    param_grid=param_grid,\n",
    "    cv=5,\n",
    "    n_jobs=-1,\n",
    "    scoring='r2'\n",
    ")\n",
    "\n",
    "# Fit the grid search\n",
    "grid_search.fit(X_train, y_train.values.ravel())\n",
    "\n",
    "# Save best parameters\n",
    "with open('../models/best_params.pkl', 'wb') as f:\n",
    "    pickle.dump(grid_search.best_params_, f)"
   ]
  },
  {
   "cell_type": "code",
   "execution_count": 8,
   "id": "5eeca4d1",
   "metadata": {},
   "outputs": [
    {
     "name": "stdout",
     "output_type": "stream",
     "text": [
      "Best parameters: {'max_depth': 30, 'min_samples_leaf': 4, 'min_samples_split': 2, 'n_estimators': 300}\n",
      "Best cross-validation score: 0.194\n",
      "\n",
      "Top 5 parameter combinations:\n",
      "     mean_test_score  std_test_score  \\\n",
      "77          0.194121        0.053552   \n",
      "104         0.194121        0.053552   \n",
      "101         0.194121        0.053552   \n",
      "74          0.194121        0.053552   \n",
      "47          0.194114        0.053532   \n",
      "\n",
      "                                                params  \n",
      "77   {'max_depth': 30, 'min_samples_leaf': 4, 'min_...  \n",
      "104  {'max_depth': None, 'min_samples_leaf': 4, 'mi...  \n",
      "101  {'max_depth': None, 'min_samples_leaf': 4, 'mi...  \n",
      "74   {'max_depth': 30, 'min_samples_leaf': 4, 'min_...  \n",
      "47   {'max_depth': 20, 'min_samples_leaf': 4, 'min_...  \n"
     ]
    }
   ],
   "source": [
    "# Print the best parameters and score\n",
    "print(\"Best parameters:\", grid_search.best_params_)\n",
    "print(\"Best cross-validation score: {:.3f}\".format(grid_search.best_score_))\n",
    "\n",
    "# Get the results into a dataframe for better visualization\n",
    "results = pd.DataFrame(grid_search.cv_results_)\n",
    "\n",
    "# Select the most important columns\n",
    "important_columns = ['mean_test_score', 'std_test_score', 'params']\n",
    "results_summary = results[important_columns].sort_values(by='mean_test_score', ascending=False)\n",
    "\n",
    "# Display top 5 parameter combinations\n",
    "print(\"\\nTop 5 parameter combinations:\")\n",
    "print(results_summary.head())"
   ]
  },
  {
   "cell_type": "code",
   "execution_count": 5,
   "id": "9fb51706",
   "metadata": {},
   "outputs": [],
   "source": [
    "import pandas as pd\n",
    "import pickle\n",
    "from sklearn.ensemble import RandomForestRegressor\n",
    "\n",
    "# Load best parameters\n",
    "with open('../models/best_params.pkl', 'rb') as f:\n",
    "    best_params = pickle.load(f)\n",
    "\n",
    "# Load the data\n",
    "X_train = pd.read_csv('../data/processed/X_train_scaled.csv')\n",
    "y_train = pd.read_csv('../data/processed/y_train.csv')\n",
    "\n",
    "# Create and train the model with best parameters\n",
    "rf_model = RandomForestRegressor(**best_params, random_state=42)\n",
    "rf_model.fit(X_train, y_train.values.ravel())\n",
    "\n",
    "# Save the trained model\n",
    "with open('../models/gbr_model.pkl', 'wb') as f:\n",
    "    pickle.dump(rf_model, f)"
   ]
  }
 ],
 "metadata": {
  "kernelspec": {
   "display_name": "venv",
   "language": "python",
   "name": "python3"
  },
  "language_info": {
   "codemirror_mode": {
    "name": "ipython",
    "version": 3
   },
   "file_extension": ".py",
   "mimetype": "text/x-python",
   "name": "python",
   "nbconvert_exporter": "python",
   "pygments_lexer": "ipython3",
   "version": "3.12.3"
  }
 },
 "nbformat": 4,
 "nbformat_minor": 5
}
